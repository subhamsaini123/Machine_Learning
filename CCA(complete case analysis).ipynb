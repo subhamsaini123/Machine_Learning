{
 "cells": [
  {
   "cell_type": "markdown",
   "id": "5c19b484",
   "metadata": {},
   "source": [
    "# what is cca ? \n",
    "\n",
    "Complete case analysis, also known as listwise deletion, is a method of handling missing data in machine learning. It involves removing any data points that have missing values for any of the variables used in the analysis. This approach is often used when the amount of missing data is small and the missing data is believed to be missing at random.\n",
    "\n",
    "The advantage of complete case analysis is that it is a simple and straightforward method that does not require any imputation or interpolation of missing data. However, it can lead to biased results if the missing data is not missing at random or if the amount of missing data is large. In addition, it can reduce the sample size and potentially limit the power of the analysis.\n",
    "\n",
    "Complete case analysis is commonly used in statistical analyses such as regression and ANOVA. However, there are other methods of handling missing data, such as imputation techniques that can be used when complete case analysis is not appropriate or effective."
   ]
  },
  {
   "cell_type": "markdown",
   "id": "62d6fcff",
   "metadata": {},
   "source": [
    "# how much missing values can we drop in data ? \n",
    "\n",
    "The amount of missing data that can be dropped depends on several factors, including the amount and pattern of missing data, the size of the dataset, and the specific research question or analysis being conducted.\n",
    "\n",
    "In general, dropping a small percentage of missing data, such as less than 5%, is often considered acceptable, especially if the remaining data is still large enough to provide adequate statistical power. However, if the amount of missing data is higher than 5%, the use of complete case analysis may result in biased estimates and reduced statistical power.\n",
    "\n",
    "Moreover, dropping too much data can lead to overfitting and reduce the generalizability of the model. In some cases, the missing data may be informative and dropping them could lead to a loss of important information.\n",
    "\n",
    "Therefore, it is important to carefully evaluate the amount and pattern of missing data before deciding how to handle it. In some cases, it may be more appropriate to use imputation techniques or other methods to handle missing data rather than simply dropping it."
   ]
  },
  {
   "cell_type": "code",
   "execution_count": null,
   "id": "b655f4d8",
   "metadata": {},
   "outputs": [],
   "source": []
  }
 ],
 "metadata": {
  "kernelspec": {
   "display_name": "Python 3 (ipykernel)",
   "language": "python",
   "name": "python3"
  },
  "language_info": {
   "codemirror_mode": {
    "name": "ipython",
    "version": 3
   },
   "file_extension": ".py",
   "mimetype": "text/x-python",
   "name": "python",
   "nbconvert_exporter": "python",
   "pygments_lexer": "ipython3",
   "version": "3.10.9"
  }
 },
 "nbformat": 4,
 "nbformat_minor": 5
}
