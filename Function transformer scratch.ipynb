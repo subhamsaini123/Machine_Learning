{
 "cells": [
  {
   "cell_type": "markdown",
   "id": "1647eebe",
   "metadata": {},
   "source": [
    "# what  is function transformer in machine learning ? "
   ]
  },
  {
   "cell_type": "markdown",
   "id": "89308a50",
   "metadata": {},
   "source": [
    "# The FunctionTransformer is a tool in scikit-learn, a popular Python library for machine learning, that allows you to apply a specified function to the input data. The FunctionTransformer can be useful for performing custom transformations of input data in a machine learning pipeline.\n",
    "\n",
    "The FunctionTransformer takes as input a single function that will be applied to each sample in the data. This function can be any Python function that takes a single argument, such as a lambda function or a user-defined function. The function should return the transformed sample."
   ]
  },
  {
   "cell_type": "code",
   "execution_count": 1,
   "id": "69bdcb25",
   "metadata": {},
   "outputs": [
    {
     "name": "stdout",
     "output_type": "stream",
     "text": [
      "[[0.69314718 1.09861229]\n",
      " [1.38629436 1.60943791]]\n"
     ]
    }
   ],
   "source": [
    "from sklearn.preprocessing import FunctionTransformer\n",
    "import numpy as np\n",
    "\n",
    "# create a dataset\n",
    "X = np.array([[1, 2], [3, 4]])\n",
    "\n",
    "# define the transformation function\n",
    "log_transform = FunctionTransformer(np.log1p)\n",
    "\n",
    "# apply the transformation to the dataset\n",
    "X_transformed = log_transform.transform(X)\n",
    "\n",
    "# view the transformed data\n",
    "print(X_transformed)"
   ]
  },
  {
   "cell_type": "markdown",
   "id": "23975278",
   "metadata": {},
   "source": [
    "# types of function transformer in machine learning ? "
   ]
  },
  {
   "cell_type": "markdown",
   "id": "a9217db4",
   "metadata": {},
   "source": [
    "# There are two types of FunctionTransformer available in scikit-learn:\n",
    "\n",
    "FunctionTransformer - This transformer allows you to specify a single function that will be applied to the entire input data matrix. This transformer can be useful for feature scaling or feature extraction.\n",
    "\n",
    "ColumnTransformer - This transformer allows you to specify a different function for each column or subset of columns in the input data matrix. This transformer can be useful for applying different transformations to different features in a dataset.\n",
    "\n",
    "Both of these transformers are part of the scikit-learn library in Python and can be used in a machine learning pipeline to preprocess data before training a model."
   ]
  },
  {
   "cell_type": "markdown",
   "id": "5fe22376",
   "metadata": {},
   "source": [
    "# for  which condition I have to use function transformer in machine learning ? "
   ]
  },
  {
   "cell_type": "markdown",
   "id": "deeac185",
   "metadata": {},
   "source": [
    "#  We might consider using a FunctionTransformer in a machine learning pipeline in the following situations:\n",
    "\n",
    "Custom feature engineering: If you want to engineer new features using a custom function, you can use a FunctionTransformer to apply the function to the input data matrix and create new features based on the output.\n",
    "\n",
    "Scaling and normalization: If you want to scale or normalize the input data matrix in a custom way, you can use a FunctionTransformer to apply a custom scaling or normalization function.\n",
    "\n",
    "Data cleaning: If you want to clean the input data matrix by removing outliers, imputing missing values, or replacing certain values, you can use a FunctionTransformer to apply a custom cleaning function.\n",
    "\n",
    "Dimensionality reduction: If you want to reduce the dimensionality of the input data matrix by selecting a subset of features or by applying a dimensionality reduction technique such as PCA, you can use a FunctionTransformer to apply the custom function.\n",
    "\n",
    "In general, a FunctionTransformer can be useful for any situation in which you want to apply a custom function to the input data matrix before training a machine learning model."
   ]
  },
  {
   "cell_type": "code",
   "execution_count": 2,
   "id": "6ec15809",
   "metadata": {},
   "outputs": [
    {
     "name": "stdout",
     "output_type": "stream",
     "text": [
      "[[ 1  2  1  4]\n",
      " [ 3  4  9 16]]\n"
     ]
    }
   ],
   "source": [
    "# Practical usecases \n",
    "\n",
    "# 1. Custom Feature Engineering \n",
    "\n",
    "from sklearn.preprocessing import FunctionTransformer\n",
    "import numpy as np\n",
    "\n",
    "# create a dataset\n",
    "X = np.array([[1, 2], [3, 4]])\n",
    "\n",
    "# define a custom feature engineering function\n",
    "def my_feature_engineering(X):\n",
    "    return np.hstack((X, X**2))\n",
    "\n",
    "# create a FunctionTransformer to apply the custom function\n",
    "custom_transformer = FunctionTransformer(my_feature_engineering)\n",
    "\n",
    "# apply the transformer to the input data\n",
    "X_transformed = custom_transformer.transform(X)\n",
    "\n",
    "# view the transformed data\n",
    "print(X_transformed)\n"
   ]
  },
  {
   "cell_type": "code",
   "execution_count": 3,
   "id": "46138baa",
   "metadata": {},
   "outputs": [
    {
     "name": "stdout",
     "output_type": "stream",
     "text": [
      "[[0.25 0.5 ]\n",
      " [0.75 1.  ]]\n"
     ]
    }
   ],
   "source": [
    "# 2. Scaling And Normalization \n",
    "\n",
    "from sklearn.preprocessing import FunctionTransformer\n",
    "import numpy as np\n",
    "\n",
    "# create a dataset\n",
    "X = np.array([[1, 2], [3, 4]])\n",
    "\n",
    "# define a custom scaling function\n",
    "def my_scaling(X):\n",
    "    return X / np.max(X)\n",
    "\n",
    "# create a FunctionTransformer to apply the custom function\n",
    "custom_transformer = FunctionTransformer(my_scaling)\n",
    "\n",
    "# apply the transformer to the input data\n",
    "X_transformed = custom_transformer.transform(X)\n",
    "\n",
    "# view the transformed data\n",
    "print(X_transformed)\n"
   ]
  },
  {
   "cell_type": "code",
   "execution_count": 4,
   "id": "da29662e",
   "metadata": {},
   "outputs": [
    {
     "name": "stdout",
     "output_type": "stream",
     "text": [
      "[[1. 2.]\n",
      " [3. 0.]]\n"
     ]
    }
   ],
   "source": [
    "# 3. Data Cleaning \n",
    "\n",
    "from sklearn.preprocessing import FunctionTransformer\n",
    "import numpy as np\n",
    "\n",
    "# create a dataset with missing values\n",
    "X = np.array([[1, 2], [3, np.nan]])\n",
    "\n",
    "# define a custom cleaning function\n",
    "def my_cleaning(X):\n",
    "    X[np.isnan(X)] = 0\n",
    "    return X\n",
    "\n",
    "# create a FunctionTransformer to apply the custom function\n",
    "custom_transformer = FunctionTransformer(my_cleaning)\n",
    "\n",
    "# apply the transformer to the input data\n",
    "X_transformed = custom_transformer.transform(X)\n",
    "\n",
    "# view the transformed data\n",
    "print(X_transformed)\n"
   ]
  },
  {
   "cell_type": "code",
   "execution_count": 5,
   "id": "370ae9be",
   "metadata": {},
   "outputs": [
    {
     "name": "stdout",
     "output_type": "stream",
     "text": [
      "[[-1.41421356]\n",
      " [ 1.41421356]]\n"
     ]
    }
   ],
   "source": [
    "# 4.  Dimensionality reduction \n",
    "\n",
    "from sklearn.decomposition import PCA\n",
    "from sklearn.preprocessing import FunctionTransformer\n",
    "import numpy as np\n",
    "\n",
    "# create a dataset\n",
    "X = np.array([[1, 2], [3, 4]])\n",
    "\n",
    "# define a custom PCA function\n",
    "def my_pca(X):\n",
    "    pca = PCA(n_components=1)\n",
    "    X_pca = pca.fit_transform(X)\n",
    "    return X_pca\n",
    "\n",
    "# create a FunctionTransformer to apply the custom function\n",
    "custom_transformer = FunctionTransformer(my_pca)\n",
    "\n",
    "# apply the transformer to the input data\n",
    "X_transformed = custom_transformer.transform(X)\n",
    "\n",
    "# view the transformed data\n",
    "print(X_transformed)\n"
   ]
  },
  {
   "cell_type": "markdown",
   "id": "fbe6d4f4",
   "metadata": {},
   "source": [
    "# Real Life Use-Case of Function Transformer \n",
    "\n",
    "\n",
    "There are many real-life use cases where FunctionTransformer can be useful in machine learning pipelines. Here are a few examples:\n",
    "\n",
    "1. Image processing: In computer vision applications, FunctionTransformer can be used to apply custom functions to preprocess image data. For example, a custom function can be used to resize images, change the color balance, or apply filters to improve image quality.\n",
    "\n",
    "2. Natural language processing: In NLP applications, FunctionTransformer can be used to preprocess text data by applying custom functions to perform tasks such as tokenization, stemming, or removing stop words.\n",
    "\n",
    "3. Financial modeling: In finance, FunctionTransformer can be used to preprocess financial data by applying custom functions to transform the data, such as scaling stock prices, normalizing financial ratios, or imputing missing values.\n",
    "\n",
    "4. Audio signal processing: In speech recognition or music analysis applications, FunctionTransformer can be used to preprocess audio data by applying custom functions to perform tasks such as filtering noise, extracting features such as MFCCs (Mel-frequency cepstral coefficients), or resampling the audio signal.\n",
    "\n",
    "5. Sensor data processing: In Internet of Things (IoT) applications, FunctionTransformer can be used to preprocess sensor data by applying custom functions to remove outliers, impute missing values, or rescale sensor readings."
   ]
  },
  {
   "cell_type": "code",
   "execution_count": null,
   "id": "c2c9ee8d",
   "metadata": {},
   "outputs": [],
   "source": []
  }
 ],
 "metadata": {
  "kernelspec": {
   "display_name": "Python 3 (ipykernel)",
   "language": "python",
   "name": "python3"
  },
  "language_info": {
   "codemirror_mode": {
    "name": "ipython",
    "version": 3
   },
   "file_extension": ".py",
   "mimetype": "text/x-python",
   "name": "python",
   "nbconvert_exporter": "python",
   "pygments_lexer": "ipython3",
   "version": "3.10.9"
  }
 },
 "nbformat": 4,
 "nbformat_minor": 5
}
