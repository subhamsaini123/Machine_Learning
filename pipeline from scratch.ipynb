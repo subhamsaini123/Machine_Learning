{
 "cells": [
  {
   "cell_type": "markdown",
   "id": "116bac5f",
   "metadata": {},
   "source": [
    "# What   does  pipeline in machine learning   ?\n",
    "\n",
    "In machine learning, a pipeline refers to a series of steps or processes that are executed in a specific order to perform a specific task or solve a particular problem. These steps are typically designed to take raw data as input, preprocess it, and then apply machine learning algorithms to produce a desired output.\n",
    "\n",
    "The pipeline can include a variety of steps, such as data cleaning and preprocessing, feature engineering, model selection and training, and evaluation of the model's performance. Each step is designed to transform the data in a specific way, and the output of one step is often used as input for the next step in the pipeline.\n",
    "\n",
    "Pipelines are important in machine learning because they allow for a more efficient and streamlined workflow. By automating many of the steps involved in data preparation and analysis, pipelines can help reduce errors and ensure that the results produced by machine learning models are reliable and accurate. They can also be used to scale machine learning workflows, making it possible to process large amounts of data in a short amount of time."
   ]
  },
  {
   "cell_type": "markdown",
   "id": "174dfece",
   "metadata": {},
   "source": [
    "# Difference between column transformer and pipeline ? \n",
    "\n",
    "Both ColumnTransformer and Pipeline are tools used in machine learning to preprocess data before fitting a model. While there are some similarities between them, there are also some key differences.\n",
    "\n",
    "A ColumnTransformer is a tool that allows you to apply different preprocessing steps to different columns of a dataset. For example, you could apply one transformation to numerical data, and a different transformation to categorical data. This is useful because different types of data often require different types of preprocessing. The ColumnTransformer can be used as a preprocessing step before fitting a machine learning model.\n",
    "\n",
    "A Pipeline, on the other hand, is a tool that allows you to chain together multiple preprocessing steps and a machine learning model into a single object. For example, you could create a pipeline that first applies feature scaling to your data, then performs feature selection, and finally fits a machine learning model. Pipelines can help you automate the entire machine learning workflow, from preprocessing to model fitting and evaluation.\n",
    "\n",
    "The key difference between ColumnTransformer and Pipeline is that ColumnTransformer is designed to apply different preprocessing steps to different columns of a dataset, while Pipeline is designed to chain together multiple preprocessing steps and a machine learning model into a single object. In some cases, you may want to use both tools together, for example by using a ColumnTransformer as a preprocessing step within a Pipeline."
   ]
  },
  {
   "cell_type": "code",
   "execution_count": 1,
   "id": "3b63265f",
   "metadata": {},
   "outputs": [],
   "source": [
    "# from sklearn.datasets import fetch_california_housing\n",
    "# from sklearn.compose import ColumnTransformer\n",
    "# from sklearn.pipeline import Pipeline\n",
    "# from sklearn.preprocessing import StandardScaler, OneHotEncoder\n",
    "# from sklearn.linear_model import LinearRegression\n",
    "\n",
    "# # Load the California housing dataset\n",
    "# housing = fetch_california_housing()\n",
    "\n",
    "# # Define the column transformer\n",
    "# ct = ColumnTransformer([\n",
    "#     ('numerical', StandardScaler(), ['MedInc', 'HouseAge', 'AveRooms', 'AveBedrms', 'Population', 'AveOccup']),\n",
    "#     ('categorical', OneHotEncoder(), ['OceanProximity'])\n",
    "# ])\n",
    "\n",
    "# # Define the pipeline\n",
    "# pipeline = Pipeline([\n",
    "#     ('preprocessing', ct),\n",
    "#     ('linear_regression', LinearRegression())\n",
    "# ])\n",
    "\n",
    "# # Fit the pipeline to the data\n",
    "# pipeline.fit(housing.data, housing.target)\n"
   ]
  },
  {
   "cell_type": "code",
   "execution_count": 8,
   "id": "d14f9781",
   "metadata": {},
   "outputs": [
    {
     "name": "stdout",
     "output_type": "stream",
     "text": [
      "[4.52601218 3.58499971 3.52099601 3.41299871 3.42199676 2.6970015\n",
      " 2.99199919 2.41399946 2.26699906 2.61098686]\n"
     ]
    }
   ],
   "source": [
    "import pandas as pd\n",
    "from sklearn.compose import ColumnTransformer\n",
    "from sklearn.pipeline import Pipeline\n",
    "from sklearn.linear_model import LinearRegression\n",
    "from sklearn.preprocessing import StandardScaler, OneHotEncoder\n",
    "from sklearn.datasets import fetch_california_housing\n",
    "\n",
    "# Load the California Housing dataset.\n",
    "housing = fetch_california_housing(as_frame = True) \n",
    "\n",
    "# Define the numeric features and categorical features.\n",
    "numeric_features = housing.feature_names[:2]\n",
    "categorical_features = housing.feature_names[2:]\n",
    "\n",
    "# Define the preprocessing pipelines for the numeric features and the categorical features.\n",
    "numeric_transformer = Pipeline(steps=[('scaler', StandardScaler())])\n",
    "categorical_transformer = Pipeline(steps=[('onehot', OneHotEncoder(handle_unknown='ignore'))])\n",
    "\n",
    "# Use ColumnTransformer to combine the numeric and categorical transformers.\n",
    "preprocessor = ColumnTransformer(\n",
    "    transformers=[\n",
    "        ('num', numeric_transformer, numeric_features),\n",
    "        ('cat', categorical_transformer, categorical_features)\n",
    "    ])\n",
    "\n",
    "# Define the pipeline with the preprocessor and the LinearRegression model.\n",
    "pipeline = Pipeline(steps=[('preprocessor', preprocessor),\n",
    "                           ('regressor', LinearRegression())])\n",
    "\n",
    "# Convert the data and target to pandas DataFrame.\n",
    "X = pd.DataFrame(housing.data, columns=housing.feature_names)\n",
    "y = pd.Series(housing.target)\n",
    "\n",
    "# Fit the pipeline to the data.\n",
    "pipeline.fit(X, y)\n",
    "\n",
    "# Predict on new data.\n",
    "X_new = X.iloc[:10]\n",
    "y_pred = pipeline.predict(X_new)\n",
    "print(y_pred)\n"
   ]
  },
  {
   "cell_type": "markdown",
   "id": "f16c8b68",
   "metadata": {},
   "source": [
    "# what does (as_frame = True) ? \n",
    "\n",
    "In scikit-learn's fetch_california_housing function, the as_frame parameter is an optional boolean parameter that indicates whether to return the dataset as a pandas dataframe or not. When as_frame is set to True, the fetch_california_housing function returns a pandas dataframe that contains both the data and the target. The data attribute of the returned dataframe contains the feature matrix, while the target attribute contains the target variable.\n",
    "\n",
    "If as_frame is set to False (which is the default value), the function returns a dictionary-like object with two keys: data and target. The data key maps to a numpy array of shape (n_samples, n_features), while the target key maps to a numpy array of shape (n_samples,).\n",
    "\n",
    "Setting as_frame=True can be useful when you want to use the pandas API for data manipulation or when you want to visualize the data using libraries such as seaborn or matplotlib."
   ]
  },
  {
   "cell_type": "code",
   "execution_count": 9,
   "id": "cfcc5487",
   "metadata": {},
   "outputs": [],
   "source": [
    "# How to import train_test_SPLIT ? \n",
    "\n",
    "# FROM SKLEARN.MODEL_SELECTION IMPORT TRAIN_TEST_SPLIT \n",
    "# cATEGORICAL DATA => 1. INDEPENDENT 2 . DEPENDENT \n",
    "# Independent Data ==> OneHotEncoder() \n",
    "# Dependent Categorical Data "
   ]
  },
  {
   "cell_type": "code",
   "execution_count": 10,
   "id": "0c7b0e8b",
   "metadata": {},
   "outputs": [
    {
     "data": {
      "text/plain": [
       "{'data':        MedInc  HouseAge  AveRooms  AveBedrms  Population  AveOccup  Latitude  \\\n",
       " 0      8.3252      41.0  6.984127   1.023810       322.0  2.555556     37.88   \n",
       " 1      8.3014      21.0  6.238137   0.971880      2401.0  2.109842     37.86   \n",
       " 2      7.2574      52.0  8.288136   1.073446       496.0  2.802260     37.85   \n",
       " 3      5.6431      52.0  5.817352   1.073059       558.0  2.547945     37.85   \n",
       " 4      3.8462      52.0  6.281853   1.081081       565.0  2.181467     37.85   \n",
       " ...       ...       ...       ...        ...         ...       ...       ...   \n",
       " 20635  1.5603      25.0  5.045455   1.133333       845.0  2.560606     39.48   \n",
       " 20636  2.5568      18.0  6.114035   1.315789       356.0  3.122807     39.49   \n",
       " 20637  1.7000      17.0  5.205543   1.120092      1007.0  2.325635     39.43   \n",
       " 20638  1.8672      18.0  5.329513   1.171920       741.0  2.123209     39.43   \n",
       " 20639  2.3886      16.0  5.254717   1.162264      1387.0  2.616981     39.37   \n",
       " \n",
       "        Longitude  \n",
       " 0        -122.23  \n",
       " 1        -122.22  \n",
       " 2        -122.24  \n",
       " 3        -122.25  \n",
       " 4        -122.25  \n",
       " ...          ...  \n",
       " 20635    -121.09  \n",
       " 20636    -121.21  \n",
       " 20637    -121.22  \n",
       " 20638    -121.32  \n",
       " 20639    -121.24  \n",
       " \n",
       " [20640 rows x 8 columns],\n",
       " 'target': 0        4.526\n",
       " 1        3.585\n",
       " 2        3.521\n",
       " 3        3.413\n",
       " 4        3.422\n",
       "          ...  \n",
       " 20635    0.781\n",
       " 20636    0.771\n",
       " 20637    0.923\n",
       " 20638    0.847\n",
       " 20639    0.894\n",
       " Name: MedHouseVal, Length: 20640, dtype: float64,\n",
       " 'frame':        MedInc  HouseAge  AveRooms  AveBedrms  Population  AveOccup  Latitude  \\\n",
       " 0      8.3252      41.0  6.984127   1.023810       322.0  2.555556     37.88   \n",
       " 1      8.3014      21.0  6.238137   0.971880      2401.0  2.109842     37.86   \n",
       " 2      7.2574      52.0  8.288136   1.073446       496.0  2.802260     37.85   \n",
       " 3      5.6431      52.0  5.817352   1.073059       558.0  2.547945     37.85   \n",
       " 4      3.8462      52.0  6.281853   1.081081       565.0  2.181467     37.85   \n",
       " ...       ...       ...       ...        ...         ...       ...       ...   \n",
       " 20635  1.5603      25.0  5.045455   1.133333       845.0  2.560606     39.48   \n",
       " 20636  2.5568      18.0  6.114035   1.315789       356.0  3.122807     39.49   \n",
       " 20637  1.7000      17.0  5.205543   1.120092      1007.0  2.325635     39.43   \n",
       " 20638  1.8672      18.0  5.329513   1.171920       741.0  2.123209     39.43   \n",
       " 20639  2.3886      16.0  5.254717   1.162264      1387.0  2.616981     39.37   \n",
       " \n",
       "        Longitude  MedHouseVal  \n",
       " 0        -122.23        4.526  \n",
       " 1        -122.22        3.585  \n",
       " 2        -122.24        3.521  \n",
       " 3        -122.25        3.413  \n",
       " 4        -122.25        3.422  \n",
       " ...          ...          ...  \n",
       " 20635    -121.09        0.781  \n",
       " 20636    -121.21        0.771  \n",
       " 20637    -121.22        0.923  \n",
       " 20638    -121.32        0.847  \n",
       " 20639    -121.24        0.894  \n",
       " \n",
       " [20640 rows x 9 columns],\n",
       " 'target_names': ['MedHouseVal'],\n",
       " 'feature_names': ['MedInc',\n",
       "  'HouseAge',\n",
       "  'AveRooms',\n",
       "  'AveBedrms',\n",
       "  'Population',\n",
       "  'AveOccup',\n",
       "  'Latitude',\n",
       "  'Longitude'],\n",
       " 'DESCR': '.. _california_housing_dataset:\\n\\nCalifornia Housing dataset\\n--------------------------\\n\\n**Data Set Characteristics:**\\n\\n    :Number of Instances: 20640\\n\\n    :Number of Attributes: 8 numeric, predictive attributes and the target\\n\\n    :Attribute Information:\\n        - MedInc        median income in block group\\n        - HouseAge      median house age in block group\\n        - AveRooms      average number of rooms per household\\n        - AveBedrms     average number of bedrooms per household\\n        - Population    block group population\\n        - AveOccup      average number of household members\\n        - Latitude      block group latitude\\n        - Longitude     block group longitude\\n\\n    :Missing Attribute Values: None\\n\\nThis dataset was obtained from the StatLib repository.\\nhttps://www.dcc.fc.up.pt/~ltorgo/Regression/cal_housing.html\\n\\nThe target variable is the median house value for California districts,\\nexpressed in hundreds of thousands of dollars ($100,000).\\n\\nThis dataset was derived from the 1990 U.S. census, using one row per census\\nblock group. A block group is the smallest geographical unit for which the U.S.\\nCensus Bureau publishes sample data (a block group typically has a population\\nof 600 to 3,000 people).\\n\\nAn household is a group of people residing within a home. Since the average\\nnumber of rooms and bedrooms in this dataset are provided per household, these\\ncolumns may take surpinsingly large values for block groups with few households\\nand many empty houses, such as vacation resorts.\\n\\nIt can be downloaded/loaded using the\\n:func:`sklearn.datasets.fetch_california_housing` function.\\n\\n.. topic:: References\\n\\n    - Pace, R. Kelley and Ronald Barry, Sparse Spatial Autoregressions,\\n      Statistics and Probability Letters, 33 (1997) 291-297\\n'}"
      ]
     },
     "execution_count": 10,
     "metadata": {},
     "output_type": "execute_result"
    }
   ],
   "source": [
    "housing"
   ]
  },
  {
   "cell_type": "code",
   "execution_count": null,
   "id": "2af18606",
   "metadata": {},
   "outputs": [],
   "source": []
  }
 ],
 "metadata": {
  "kernelspec": {
   "display_name": "Python 3 (ipykernel)",
   "language": "python",
   "name": "python3"
  },
  "language_info": {
   "codemirror_mode": {
    "name": "ipython",
    "version": 3
   },
   "file_extension": ".py",
   "mimetype": "text/x-python",
   "name": "python",
   "nbconvert_exporter": "python",
   "pygments_lexer": "ipython3",
   "version": "3.10.9"
  }
 },
 "nbformat": 4,
 "nbformat_minor": 5
}
