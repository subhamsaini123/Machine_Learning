{
 "cells": [
  {
   "cell_type": "code",
   "execution_count": 1,
   "id": "8f993506",
   "metadata": {},
   "outputs": [],
   "source": [
    "from sklearn.datasets import load_iris\n",
    "from sklearn.model_selection import train_test_split\n",
    "from sklearn.naive_bayes import MultinomialNB, BernoulliNB\n",
    "from sklearn.metrics import confusion_matrix"
   ]
  },
  {
   "cell_type": "code",
   "execution_count": 2,
   "id": "45e2255d",
   "metadata": {},
   "outputs": [],
   "source": [
    "iris = load_iris()\n",
    "X = iris.data\n",
    "y = iris.target"
   ]
  },
  {
   "cell_type": "code",
   "execution_count": 3,
   "id": "0849d2b1",
   "metadata": {},
   "outputs": [],
   "source": [
    "X_train, X_test, y_train, y_test = train_test_split(X, y, test_size=0.2, random_state=42)\n"
   ]
  },
  {
   "cell_type": "code",
   "execution_count": 4,
   "id": "6816a11e",
   "metadata": {},
   "outputs": [],
   "source": [
    "# Multinomial Naive Bayes classifier\n",
    "multinomial_nb = MultinomialNB()\n",
    "multinomial_nb.fit(X_train, y_train)\n",
    "y_pred_multinomial = multinomial_nb.predict(X_test)"
   ]
  },
  {
   "cell_type": "code",
   "execution_count": 5,
   "id": "965d384a",
   "metadata": {},
   "outputs": [],
   "source": [
    "# Bernoulli Naive Bayes classifier\n",
    "bernoulli_nb = BernoulliNB()\n",
    "bernoulli_nb.fit(X_train, y_train)\n",
    "y_pred_bernoulli = bernoulli_nb.predict(X_test)"
   ]
  },
  {
   "cell_type": "code",
   "execution_count": 6,
   "id": "e69bdc4f",
   "metadata": {},
   "outputs": [
    {
     "name": "stdout",
     "output_type": "stream",
     "text": [
      "Confusion Matrix (Multinomial Naive Bayes):\n",
      " [[10  0  0]\n",
      " [ 0  9  0]\n",
      " [ 0  3  8]]\n"
     ]
    }
   ],
   "source": [
    "# Confusion matrix for Multinomial Naive Bayes\n",
    "confusion_matrix_multinomial = confusion_matrix(y_test, y_pred_multinomial)\n",
    "print(\"Confusion Matrix (Multinomial Naive Bayes):\\n\", confusion_matrix_multinomial)"
   ]
  },
  {
   "cell_type": "code",
   "execution_count": 7,
   "id": "08e0cf3f",
   "metadata": {},
   "outputs": [
    {
     "name": "stdout",
     "output_type": "stream",
     "text": [
      "Confusion Matrix (Bernoulli Naive Bayes):\n",
      " [[ 0 10  0]\n",
      " [ 0  9  0]\n",
      " [ 0 11  0]]\n"
     ]
    }
   ],
   "source": [
    "# Confusion matrix for Bernoulli Naive Bayes\n",
    "confusion_matrix_bernoulli = confusion_matrix(y_test, y_pred_bernoulli)\n",
    "print(\"Confusion Matrix (Bernoulli Naive Bayes):\\n\", confusion_matrix_bernoulli)"
   ]
  },
  {
   "cell_type": "code",
   "execution_count": 8,
   "id": "ee1d2b98",
   "metadata": {},
   "outputs": [
    {
     "name": "stdout",
     "output_type": "stream",
     "text": [
      "Converted Confusion Matrix (Multinomial Naive Bayes):\n",
      "[[10  0]\n",
      " [ 0  9]]\n",
      "\n",
      "Converted Confusion Matrix (Bernoulli Naive Bayes):\n",
      "[[ 0 10]\n",
      " [ 0  9]]\n"
     ]
    }
   ],
   "source": [
    "from sklearn.datasets import load_iris\n",
    "from sklearn.model_selection import train_test_split\n",
    "from sklearn.naive_bayes import MultinomialNB, BernoulliNB\n",
    "from sklearn.metrics import confusion_matrix\n",
    "import numpy as np\n",
    "\n",
    "# Load the dataset (Iris dataset used as an example)\n",
    "iris = load_iris()\n",
    "X = iris.data\n",
    "y = iris.target\n",
    "\n",
    "# Split the dataset into training and testing sets\n",
    "X_train, X_test, y_train, y_test = train_test_split(X, y, test_size=0.2, random_state=42)\n",
    "\n",
    "# Multinomial Naive Bayes classifier\n",
    "multinomial_nb = MultinomialNB()\n",
    "multinomial_nb.fit(X_train, y_train)\n",
    "y_pred_multinomial = multinomial_nb.predict(X_test)\n",
    "\n",
    "# Bernoulli Naive Bayes classifier\n",
    "bernoulli_nb = BernoulliNB()\n",
    "bernoulli_nb.fit(X_train, y_train)\n",
    "y_pred_bernoulli = bernoulli_nb.predict(X_test)\n",
    "\n",
    "# Confusion matrix for Multinomial Naive Bayes\n",
    "confusion_matrix_multinomial = confusion_matrix(y_test, y_pred_multinomial)\n",
    "converted_matrix_multinomial = confusion_matrix_multinomial[:2, :2]\n",
    "\n",
    "# Confusion matrix for Bernoulli Naive Bayes\n",
    "confusion_matrix_bernoulli = confusion_matrix(y_test, y_pred_bernoulli)\n",
    "converted_matrix_bernoulli = confusion_matrix_bernoulli[:2, :2]\n",
    "\n",
    "print(\"Converted Confusion Matrix (Multinomial Naive Bayes):\")\n",
    "print(converted_matrix_multinomial)\n",
    "print()\n",
    "print(\"Converted Confusion Matrix (Bernoulli Naive Bayes):\")\n",
    "print(converted_matrix_bernoulli)\n"
   ]
  },
  {
   "cell_type": "markdown",
   "id": "5bbc2fa3",
   "metadata": {},
   "source": [
    "# confusion matrix\n",
    "(1). The first row and first column correspond to the true positives (correct predictions).\n",
    "\n",
    "(2).The first row and second column correspond to the false negatives (instances where the true label is positive but the classifier predicted it as negative).\n",
    "(3).The second row and first column correspond to the false positives (instances where the true label is negative but the classifier predicted it as positive).\n",
    "\n",
    "(4). The second row and second column correspond to the true negatives (correctly predicted negative instances)."
   ]
  },
  {
   "cell_type": "code",
   "execution_count": null,
   "id": "85916166",
   "metadata": {},
   "outputs": [],
   "source": []
  }
 ],
 "metadata": {
  "kernelspec": {
   "display_name": "Python 3 (ipykernel)",
   "language": "python",
   "name": "python3"
  },
  "language_info": {
   "codemirror_mode": {
    "name": "ipython",
    "version": 3
   },
   "file_extension": ".py",
   "mimetype": "text/x-python",
   "name": "python",
   "nbconvert_exporter": "python",
   "pygments_lexer": "ipython3",
   "version": "3.10.9"
  }
 },
 "nbformat": 4,
 "nbformat_minor": 5
}
