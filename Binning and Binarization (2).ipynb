{
 "cells": [
  {
   "cell_type": "code",
   "execution_count": 1,
   "id": "f96d05c9",
   "metadata": {},
   "outputs": [],
   "source": [
    "import numpy as np \n",
    "import pandas as pd "
   ]
  },
  {
   "cell_type": "code",
   "execution_count": 7,
   "id": "6cd27560",
   "metadata": {},
   "outputs": [],
   "source": [
    "df = pd.read_csv(\"C:\\\\Users\\\\saurabh\\\\Desktop\\\\pyth\\\\titanic.csv\" , usecols = ['Age' , 'Fare' , 'Survived'])"
   ]
  },
  {
   "cell_type": "code",
   "execution_count": 8,
   "id": "c3083937",
   "metadata": {},
   "outputs": [
    {
     "data": {
      "text/html": [
       "<div>\n",
       "<style scoped>\n",
       "    .dataframe tbody tr th:only-of-type {\n",
       "        vertical-align: middle;\n",
       "    }\n",
       "\n",
       "    .dataframe tbody tr th {\n",
       "        vertical-align: top;\n",
       "    }\n",
       "\n",
       "    .dataframe thead th {\n",
       "        text-align: right;\n",
       "    }\n",
       "</style>\n",
       "<table border=\"1\" class=\"dataframe\">\n",
       "  <thead>\n",
       "    <tr style=\"text-align: right;\">\n",
       "      <th></th>\n",
       "      <th>Survived</th>\n",
       "      <th>Age</th>\n",
       "      <th>Fare</th>\n",
       "    </tr>\n",
       "  </thead>\n",
       "  <tbody>\n",
       "    <tr>\n",
       "      <th>0</th>\n",
       "      <td>0</td>\n",
       "      <td>34.5</td>\n",
       "      <td>7.8292</td>\n",
       "    </tr>\n",
       "    <tr>\n",
       "      <th>1</th>\n",
       "      <td>1</td>\n",
       "      <td>47.0</td>\n",
       "      <td>7.0000</td>\n",
       "    </tr>\n",
       "    <tr>\n",
       "      <th>2</th>\n",
       "      <td>0</td>\n",
       "      <td>62.0</td>\n",
       "      <td>9.6875</td>\n",
       "    </tr>\n",
       "    <tr>\n",
       "      <th>3</th>\n",
       "      <td>0</td>\n",
       "      <td>27.0</td>\n",
       "      <td>8.6625</td>\n",
       "    </tr>\n",
       "    <tr>\n",
       "      <th>4</th>\n",
       "      <td>1</td>\n",
       "      <td>22.0</td>\n",
       "      <td>12.2875</td>\n",
       "    </tr>\n",
       "    <tr>\n",
       "      <th>...</th>\n",
       "      <td>...</td>\n",
       "      <td>...</td>\n",
       "      <td>...</td>\n",
       "    </tr>\n",
       "    <tr>\n",
       "      <th>413</th>\n",
       "      <td>0</td>\n",
       "      <td>NaN</td>\n",
       "      <td>8.0500</td>\n",
       "    </tr>\n",
       "    <tr>\n",
       "      <th>414</th>\n",
       "      <td>1</td>\n",
       "      <td>39.0</td>\n",
       "      <td>108.9000</td>\n",
       "    </tr>\n",
       "    <tr>\n",
       "      <th>415</th>\n",
       "      <td>0</td>\n",
       "      <td>38.5</td>\n",
       "      <td>7.2500</td>\n",
       "    </tr>\n",
       "    <tr>\n",
       "      <th>416</th>\n",
       "      <td>0</td>\n",
       "      <td>NaN</td>\n",
       "      <td>8.0500</td>\n",
       "    </tr>\n",
       "    <tr>\n",
       "      <th>417</th>\n",
       "      <td>0</td>\n",
       "      <td>NaN</td>\n",
       "      <td>22.3583</td>\n",
       "    </tr>\n",
       "  </tbody>\n",
       "</table>\n",
       "<p>418 rows × 3 columns</p>\n",
       "</div>"
      ],
      "text/plain": [
       "     Survived   Age      Fare\n",
       "0           0  34.5    7.8292\n",
       "1           1  47.0    7.0000\n",
       "2           0  62.0    9.6875\n",
       "3           0  27.0    8.6625\n",
       "4           1  22.0   12.2875\n",
       "..        ...   ...       ...\n",
       "413         0   NaN    8.0500\n",
       "414         1  39.0  108.9000\n",
       "415         0  38.5    7.2500\n",
       "416         0   NaN    8.0500\n",
       "417         0   NaN   22.3583\n",
       "\n",
       "[418 rows x 3 columns]"
      ]
     },
     "execution_count": 8,
     "metadata": {},
     "output_type": "execute_result"
    }
   ],
   "source": [
    "df"
   ]
  },
  {
   "cell_type": "code",
   "execution_count": 9,
   "id": "ae584a9d",
   "metadata": {},
   "outputs": [],
   "source": [
    "import matplotlib.pyplot as plt \n",
    "\n",
    "from sklearn.model_selection import train_test_split \n",
    "\n",
    "from sklearn.tree import DecisionTreeClassifier \n",
    "\n",
    "from sklearn.metrics import accuracy_score \n",
    "\n",
    "from sklearn.model_selection import cross_val_score \n",
    "\n",
    "from sklearn.preprocessing import KBinsDiscretizer \n",
    "\n",
    "\n",
    "from sklearn.compose import ColumnTransformer "
   ]
  },
  {
   "cell_type": "code",
   "execution_count": 10,
   "id": "46730abc",
   "metadata": {},
   "outputs": [],
   "source": [
    "df.dropna(inplace = True) "
   ]
  },
  {
   "cell_type": "code",
   "execution_count": 11,
   "id": "b0050bc0",
   "metadata": {},
   "outputs": [
    {
     "data": {
      "text/plain": [
       "(331, 3)"
      ]
     },
     "execution_count": 11,
     "metadata": {},
     "output_type": "execute_result"
    }
   ],
   "source": [
    "df.shape "
   ]
  },
  {
   "cell_type": "code",
   "execution_count": 13,
   "id": "1128a85b",
   "metadata": {},
   "outputs": [],
   "source": [
    "x = df.iloc[: , 1:]"
   ]
  },
  {
   "cell_type": "code",
   "execution_count": 14,
   "id": "aaae9212",
   "metadata": {},
   "outputs": [],
   "source": [
    "y = df.iloc[: , 0]"
   ]
  },
  {
   "cell_type": "code",
   "execution_count": 15,
   "id": "5e274d93",
   "metadata": {},
   "outputs": [],
   "source": [
    "x_train , x_test , y_train , y_test = train_test_split(x,y,test_size = 0.2)"
   ]
  },
  {
   "cell_type": "code",
   "execution_count": 16,
   "id": "0d325135",
   "metadata": {},
   "outputs": [
    {
     "data": {
      "text/html": [
       "<div>\n",
       "<style scoped>\n",
       "    .dataframe tbody tr th:only-of-type {\n",
       "        vertical-align: middle;\n",
       "    }\n",
       "\n",
       "    .dataframe tbody tr th {\n",
       "        vertical-align: top;\n",
       "    }\n",
       "\n",
       "    .dataframe thead th {\n",
       "        text-align: right;\n",
       "    }\n",
       "</style>\n",
       "<table border=\"1\" class=\"dataframe\">\n",
       "  <thead>\n",
       "    <tr style=\"text-align: right;\">\n",
       "      <th></th>\n",
       "      <th>Age</th>\n",
       "      <th>Fare</th>\n",
       "    </tr>\n",
       "  </thead>\n",
       "  <tbody>\n",
       "    <tr>\n",
       "      <th>156</th>\n",
       "      <td>29.0</td>\n",
       "      <td>221.7792</td>\n",
       "    </tr>\n",
       "    <tr>\n",
       "      <th>126</th>\n",
       "      <td>22.0</td>\n",
       "      <td>7.7958</td>\n",
       "    </tr>\n",
       "    <tr>\n",
       "      <th>371</th>\n",
       "      <td>31.0</td>\n",
       "      <td>134.5000</td>\n",
       "    </tr>\n",
       "  </tbody>\n",
       "</table>\n",
       "</div>"
      ],
      "text/plain": [
       "      Age      Fare\n",
       "156  29.0  221.7792\n",
       "126  22.0    7.7958\n",
       "371  31.0  134.5000"
      ]
     },
     "execution_count": 16,
     "metadata": {},
     "output_type": "execute_result"
    }
   ],
   "source": [
    "x_train.head(3) "
   ]
  },
  {
   "cell_type": "code",
   "execution_count": 18,
   "id": "c1b4fa76",
   "metadata": {},
   "outputs": [
    {
     "data": {
      "text/plain": [
       "DecisionTreeClassifier()"
      ]
     },
     "execution_count": 18,
     "metadata": {},
     "output_type": "execute_result"
    }
   ],
   "source": [
    "clf = DecisionTreeClassifier()  \n",
    "\n",
    "clf.fit(x_train,  y_train)"
   ]
  },
  {
   "cell_type": "code",
   "execution_count": 19,
   "id": "bb7bf251",
   "metadata": {},
   "outputs": [],
   "source": [
    "y_pred = clf.predict(x_test)"
   ]
  },
  {
   "cell_type": "code",
   "execution_count": 20,
   "id": "7fe062e8",
   "metadata": {},
   "outputs": [
    {
     "data": {
      "text/plain": [
       "0.5223880597014925"
      ]
     },
     "execution_count": 20,
     "metadata": {},
     "output_type": "execute_result"
    }
   ],
   "source": [
    "accuracy_score(y_test , y_pred)"
   ]
  },
  {
   "cell_type": "code",
   "execution_count": 22,
   "id": "db003a3e",
   "metadata": {},
   "outputs": [
    {
     "data": {
      "text/plain": [
       "0.5650623885918004"
      ]
     },
     "execution_count": 22,
     "metadata": {},
     "output_type": "execute_result"
    }
   ],
   "source": [
    "np.mean(cross_val_score(DecisionTreeClassifier() ,x ,y , cv = 10 , scoring = \"accuracy\"))"
   ]
  },
  {
   "cell_type": "code",
   "execution_count": 24,
   "id": "8b125eae",
   "metadata": {},
   "outputs": [],
   "source": [
    "kbin_age = KBinsDiscretizer(n_bins = 15 , encode = 'ordinal'  , strategy = 'quantile')"
   ]
  },
  {
   "cell_type": "code",
   "execution_count": 25,
   "id": "74fd9252",
   "metadata": {},
   "outputs": [],
   "source": [
    "kbin_fare = KBinsDiscretizer(n_bins = 15 , encode = 'ordinal' , strategy = 'quantile') "
   ]
  },
  {
   "cell_type": "code",
   "execution_count": 28,
   "id": "0de3bd1b",
   "metadata": {},
   "outputs": [],
   "source": [
    "trf = ColumnTransformer([\n",
    "    ('first' , kbin_age , [0]) , \n",
    "    ('second' , kbin_fare , [1])\n",
    "])"
   ]
  },
  {
   "cell_type": "code",
   "execution_count": 29,
   "id": "d1d2709d",
   "metadata": {},
   "outputs": [
    {
     "data": {
      "text/plain": [
       "ColumnTransformer(transformers=[('first',\n",
       "                                 KBinsDiscretizer(encode='ordinal', n_bins=15),\n",
       "                                 [0]),\n",
       "                                ('second',\n",
       "                                 KBinsDiscretizer(encode='ordinal', n_bins=15),\n",
       "                                 [1])])"
      ]
     },
     "execution_count": 29,
     "metadata": {},
     "output_type": "execute_result"
    }
   ],
   "source": [
    "trf"
   ]
  },
  {
   "cell_type": "code",
   "execution_count": 30,
   "id": "e444318b",
   "metadata": {},
   "outputs": [],
   "source": [
    "x_train_trf = trf.fit_transform(x_train)"
   ]
  },
  {
   "cell_type": "code",
   "execution_count": 31,
   "id": "142e12a4",
   "metadata": {},
   "outputs": [],
   "source": [
    "x_test_trf = trf.transform(x_test)"
   ]
  },
  {
   "cell_type": "code",
   "execution_count": 33,
   "id": "fd1e3209",
   "metadata": {},
   "outputs": [
    {
     "data": {
      "text/plain": [
       "array([array([ 0.17      , 11.76666667, 18.        , 20.6       , 22.        ,\n",
       "              23.        , 25.        , 27.        , 29.        , 30.        ,\n",
       "              35.        , 38.43333333, 42.        , 47.        , 54.46666667,\n",
       "              76.        ])                                                   ],\n",
       "      dtype=object)"
      ]
     },
     "execution_count": 33,
     "metadata": {},
     "output_type": "execute_result"
    }
   ],
   "source": [
    "trf.named_transformers_['first'].bin_edges_"
   ]
  },
  {
   "cell_type": "code",
   "execution_count": 40,
   "id": "37ac964b",
   "metadata": {},
   "outputs": [],
   "source": [
    "output = pd.DataFrame({\n",
    "    'age' : x_train['Age'],\n",
    "    'age_trf' : x_train_trf[: , 0] , \n",
    "    'Fare' : x_train['Fare'] , \n",
    "    'Fare_trf' : x_train_trf[: , 1]\n",
    "})"
   ]
  },
  {
   "cell_type": "code",
   "execution_count": 41,
   "id": "57f24f12",
   "metadata": {},
   "outputs": [
    {
     "data": {
      "text/html": [
       "<div>\n",
       "<style scoped>\n",
       "    .dataframe tbody tr th:only-of-type {\n",
       "        vertical-align: middle;\n",
       "    }\n",
       "\n",
       "    .dataframe tbody tr th {\n",
       "        vertical-align: top;\n",
       "    }\n",
       "\n",
       "    .dataframe thead th {\n",
       "        text-align: right;\n",
       "    }\n",
       "</style>\n",
       "<table border=\"1\" class=\"dataframe\">\n",
       "  <thead>\n",
       "    <tr style=\"text-align: right;\">\n",
       "      <th></th>\n",
       "      <th>age</th>\n",
       "      <th>age_trf</th>\n",
       "      <th>Fare</th>\n",
       "      <th>Fare_trf</th>\n",
       "    </tr>\n",
       "  </thead>\n",
       "  <tbody>\n",
       "    <tr>\n",
       "      <th>156</th>\n",
       "      <td>29.0</td>\n",
       "      <td>8.0</td>\n",
       "      <td>221.7792</td>\n",
       "      <td>14.0</td>\n",
       "    </tr>\n",
       "    <tr>\n",
       "      <th>126</th>\n",
       "      <td>22.0</td>\n",
       "      <td>4.0</td>\n",
       "      <td>7.7958</td>\n",
       "      <td>2.0</td>\n",
       "    </tr>\n",
       "    <tr>\n",
       "      <th>371</th>\n",
       "      <td>31.0</td>\n",
       "      <td>9.0</td>\n",
       "      <td>134.5000</td>\n",
       "      <td>13.0</td>\n",
       "    </tr>\n",
       "    <tr>\n",
       "      <th>350</th>\n",
       "      <td>45.0</td>\n",
       "      <td>12.0</td>\n",
       "      <td>63.3583</td>\n",
       "      <td>12.0</td>\n",
       "    </tr>\n",
       "    <tr>\n",
       "      <th>336</th>\n",
       "      <td>32.0</td>\n",
       "      <td>9.0</td>\n",
       "      <td>13.0000</td>\n",
       "      <td>6.0</td>\n",
       "    </tr>\n",
       "    <tr>\n",
       "      <th>...</th>\n",
       "      <td>...</td>\n",
       "      <td>...</td>\n",
       "      <td>...</td>\n",
       "      <td>...</td>\n",
       "    </tr>\n",
       "    <tr>\n",
       "      <th>222</th>\n",
       "      <td>22.0</td>\n",
       "      <td>4.0</td>\n",
       "      <td>10.5000</td>\n",
       "      <td>4.0</td>\n",
       "    </tr>\n",
       "    <tr>\n",
       "      <th>221</th>\n",
       "      <td>21.0</td>\n",
       "      <td>3.0</td>\n",
       "      <td>8.0500</td>\n",
       "      <td>3.0</td>\n",
       "    </tr>\n",
       "    <tr>\n",
       "      <th>376</th>\n",
       "      <td>22.0</td>\n",
       "      <td>4.0</td>\n",
       "      <td>8.6625</td>\n",
       "      <td>4.0</td>\n",
       "    </tr>\n",
       "    <tr>\n",
       "      <th>119</th>\n",
       "      <td>29.0</td>\n",
       "      <td>8.0</td>\n",
       "      <td>26.0000</td>\n",
       "      <td>9.0</td>\n",
       "    </tr>\n",
       "    <tr>\n",
       "      <th>28</th>\n",
       "      <td>41.0</td>\n",
       "      <td>11.0</td>\n",
       "      <td>30.5000</td>\n",
       "      <td>10.0</td>\n",
       "    </tr>\n",
       "  </tbody>\n",
       "</table>\n",
       "<p>264 rows × 4 columns</p>\n",
       "</div>"
      ],
      "text/plain": [
       "      age  age_trf      Fare  Fare_trf\n",
       "156  29.0      8.0  221.7792      14.0\n",
       "126  22.0      4.0    7.7958       2.0\n",
       "371  31.0      9.0  134.5000      13.0\n",
       "350  45.0     12.0   63.3583      12.0\n",
       "336  32.0      9.0   13.0000       6.0\n",
       "..    ...      ...       ...       ...\n",
       "222  22.0      4.0   10.5000       4.0\n",
       "221  21.0      3.0    8.0500       3.0\n",
       "376  22.0      4.0    8.6625       4.0\n",
       "119  29.0      8.0   26.0000       9.0\n",
       "28   41.0     11.0   30.5000      10.0\n",
       "\n",
       "[264 rows x 4 columns]"
      ]
     },
     "execution_count": 41,
     "metadata": {},
     "output_type": "execute_result"
    }
   ],
   "source": [
    "output"
   ]
  },
  {
   "cell_type": "code",
   "execution_count": 43,
   "id": "8d324e92",
   "metadata": {},
   "outputs": [],
   "source": [
    "output['age_labels'] = pd.cut(x = x_train['Age'] , bins = trf.named_transformers_['first'].bin_edges_[0].tolist())\n",
    "\n",
    "output['fare_labels']  = pd.cut(x = x_train['Fare'] , bins = trf.named_transformers_['second'].bin_edges_[0].tolist())"
   ]
  },
  {
   "cell_type": "code",
   "execution_count": 45,
   "id": "a744d6d9",
   "metadata": {},
   "outputs": [
    {
     "data": {
      "text/html": [
       "<div>\n",
       "<style scoped>\n",
       "    .dataframe tbody tr th:only-of-type {\n",
       "        vertical-align: middle;\n",
       "    }\n",
       "\n",
       "    .dataframe tbody tr th {\n",
       "        vertical-align: top;\n",
       "    }\n",
       "\n",
       "    .dataframe thead th {\n",
       "        text-align: right;\n",
       "    }\n",
       "</style>\n",
       "<table border=\"1\" class=\"dataframe\">\n",
       "  <thead>\n",
       "    <tr style=\"text-align: right;\">\n",
       "      <th></th>\n",
       "      <th>age</th>\n",
       "      <th>age_trf</th>\n",
       "      <th>Fare</th>\n",
       "      <th>Fare_trf</th>\n",
       "      <th>age_labels</th>\n",
       "      <th>fare_labels</th>\n",
       "    </tr>\n",
       "  </thead>\n",
       "  <tbody>\n",
       "    <tr>\n",
       "      <th>171</th>\n",
       "      <td>27.0</td>\n",
       "      <td>7.0</td>\n",
       "      <td>7.2250</td>\n",
       "      <td>0.0</td>\n",
       "      <td>(25.0, 27.0]</td>\n",
       "      <td>(0.0, 7.268]</td>\n",
       "    </tr>\n",
       "    <tr>\n",
       "      <th>374</th>\n",
       "      <td>54.0</td>\n",
       "      <td>13.0</td>\n",
       "      <td>81.8583</td>\n",
       "      <td>13.0</td>\n",
       "      <td>(47.0, 54.467]</td>\n",
       "      <td>(79.2, 157.764]</td>\n",
       "    </tr>\n",
       "    <tr>\n",
       "      <th>318</th>\n",
       "      <td>27.0</td>\n",
       "      <td>7.0</td>\n",
       "      <td>7.8542</td>\n",
       "      <td>2.0</td>\n",
       "      <td>(25.0, 27.0]</td>\n",
       "      <td>(7.796, 7.896]</td>\n",
       "    </tr>\n",
       "    <tr>\n",
       "      <th>18</th>\n",
       "      <td>27.0</td>\n",
       "      <td>7.0</td>\n",
       "      <td>7.9250</td>\n",
       "      <td>3.0</td>\n",
       "      <td>(25.0, 27.0]</td>\n",
       "      <td>(7.896, 8.662]</td>\n",
       "    </tr>\n",
       "    <tr>\n",
       "      <th>166</th>\n",
       "      <td>48.0</td>\n",
       "      <td>13.0</td>\n",
       "      <td>50.4958</td>\n",
       "      <td>11.0</td>\n",
       "      <td>(47.0, 54.467]</td>\n",
       "      <td>(36.97, 57.75]</td>\n",
       "    </tr>\n",
       "  </tbody>\n",
       "</table>\n",
       "</div>"
      ],
      "text/plain": [
       "      age  age_trf     Fare  Fare_trf      age_labels      fare_labels\n",
       "171  27.0      7.0   7.2250       0.0    (25.0, 27.0]     (0.0, 7.268]\n",
       "374  54.0     13.0  81.8583      13.0  (47.0, 54.467]  (79.2, 157.764]\n",
       "318  27.0      7.0   7.8542       2.0    (25.0, 27.0]   (7.796, 7.896]\n",
       "18   27.0      7.0   7.9250       3.0    (25.0, 27.0]   (7.896, 8.662]\n",
       "166  48.0     13.0  50.4958      11.0  (47.0, 54.467]   (36.97, 57.75]"
      ]
     },
     "execution_count": 45,
     "metadata": {},
     "output_type": "execute_result"
    }
   ],
   "source": [
    "output.sample(5)"
   ]
  },
  {
   "cell_type": "code",
   "execution_count": 46,
   "id": "e30f4bdd",
   "metadata": {},
   "outputs": [
    {
     "data": {
      "text/plain": [
       "DecisionTreeClassifier()"
      ]
     },
     "execution_count": 46,
     "metadata": {},
     "output_type": "execute_result"
    }
   ],
   "source": [
    "clf = DecisionTreeClassifier() \n",
    "clf.fit(x_train_trf , y_train) "
   ]
  },
  {
   "cell_type": "code",
   "execution_count": 48,
   "id": "2fd37342",
   "metadata": {},
   "outputs": [],
   "source": [
    "y_pred2 = clf.predict(x_test_trf)"
   ]
  },
  {
   "cell_type": "code",
   "execution_count": 49,
   "id": "e0180a6d",
   "metadata": {},
   "outputs": [
    {
     "data": {
      "text/plain": [
       "0.5671641791044776"
      ]
     },
     "execution_count": 49,
     "metadata": {},
     "output_type": "execute_result"
    }
   ],
   "source": [
    "accuracy_score(y_test , y_pred2)"
   ]
  },
  {
   "cell_type": "code",
   "execution_count": 50,
   "id": "dc1fa7dc",
   "metadata": {},
   "outputs": [
    {
     "data": {
      "text/plain": [
       "0.5711442786069652"
      ]
     },
     "execution_count": 50,
     "metadata": {},
     "output_type": "execute_result"
    }
   ],
   "source": [
    "x_trf = trf.fit_transform(x)\n",
    "np.mean(cross_val_score(DecisionTreeClassifier() , x , y , scoring = 'accuracy'))"
   ]
  },
  {
   "cell_type": "code",
   "execution_count": 77,
   "id": "28f02ccd",
   "metadata": {},
   "outputs": [],
   "source": [
    "def discretize(bins , strategy): \n",
    "    kbin_age = KBinsDiscretizer(n_bins = bins , encode = 'ordinal' , strategy = strategy )\n",
    "    kbin_fare = KBinsDiscretizer(n_bins = bins , encode = 'ordinal' , strategy = strategy) \n",
    "    \n",
    "    trf = ColumnTransformer([\n",
    "        ('first' , kbin_age , [0]), \n",
    "        ('second' , kbin_fare , [1])\n",
    "    ])\n",
    "    \n",
    "    x_trf  = trf.fit_transform(x) \n",
    "    print(np.mean(cross_val_score(DecisionTreeClassifier() , x , y, scoring = 'accuracy')))\n",
    "    \n",
    "    plt.figure(figsize = (14,4))\n",
    "    plt.subplot(121) \n",
    "    plt.hist(x['Age'])\n",
    "    plt.title(\" Age Before\") \n",
    "    \n",
    "    plt.subplot(122) \n",
    "    plt.hist(x_trf[: , 0] , color = 'red')\n",
    "    plt.title(\"Age After\")\n",
    "    \n",
    "    plt.show()  \n",
    "    \n",
    "    plt.figure(figsize = (14 , 4))\n",
    "    plt.subplot(121) \n",
    "    plt.hist(x['Fare'])\n",
    "    plt.title(\"Fare Before\")\n",
    "    \n",
    "    plt.subplot(122) \n",
    "    plt.hist(x_trf[: , 1] , color = 'red')\n",
    "    plt.title(\"Fare After\")\n",
    "    \n",
    "    plt.show() \n",
    "    "
   ]
  },
  {
   "cell_type": "code",
   "execution_count": 78,
   "id": "94419411",
   "metadata": {},
   "outputs": [
    {
     "name": "stderr",
     "output_type": "stream",
     "text": [
      "C:\\Users\\saurabh\\anaconda3\\lib\\site-packages\\sklearn\\cluster\\_kmeans.py:1036: UserWarning: KMeans is known to have a memory leak on Windows with MKL, when there are less chunks than available threads. You can avoid it by setting the environment variable OMP_NUM_THREADS=2.\n",
      "  warnings.warn(\n",
      "C:\\Users\\saurabh\\anaconda3\\lib\\site-packages\\sklearn\\cluster\\_kmeans.py:1036: UserWarning: KMeans is known to have a memory leak on Windows with MKL, when there are less chunks than available threads. You can avoid it by setting the environment variable OMP_NUM_THREADS=2.\n",
      "  warnings.warn(\n"
     ]
    },
    {
     "name": "stdout",
     "output_type": "stream",
     "text": [
      "0.5682044323835369\n"
     ]
    },
    {
     "data": {
      "image/png": "[encoded data removed]",
      "text/plain": [
       "<Figure size 1008x288 with 2 Axes>"
      ]
     },
     "metadata": {
      "needs_background": "light"
     },
     "output_type": "display_data"
    },
    {
     "data": {
      "image/png": "[encoded data removed]",
      "text/plain": [
       "<Figure size 1008x288 with 2 Axes>"
      ]
     },
     "metadata": {
      "needs_background": "light"
     },
     "output_type": "display_data"
    }
   ],
   "source": [
    "discretize(5 , 'kmeans')"
   ]
  },
  {
   "cell_type": "code",
   "execution_count": null,
   "id": "75e78f75",
   "metadata": {},
   "outputs": [],
   "source": []
  }
 ],
 "metadata": {
  "kernelspec": {
   "display_name": "Python 3 (ipykernel)",
   "language": "python",
   "name": "python3"
  },
  "language_info": {
   "codemirror_mode": {
    "name": "ipython",
    "version": 3
   },
   "file_extension": ".py",
   "mimetype": "text/x-python",
   "name": "python",
   "nbconvert_exporter": "python",
   "pygments_lexer": "ipython3",
   "version": "3.10.9"
  }
 },
 "nbformat": 4,
 "nbformat_minor": 5
}
