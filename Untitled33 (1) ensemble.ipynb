{
 "cells": [
  {
   "cell_type": "code",
   "execution_count": 2,
   "id": "b080e7b1",
   "metadata": {},
   "outputs": [],
   "source": [
    "import numpy as np \n",
    "from sklearn.datasets import make_classification"
   ]
  },
  {
   "cell_type": "code",
   "execution_count": 3,
   "id": "7e472977",
   "metadata": {},
   "outputs": [],
   "source": [
    "X,y = make_classification(n_samples = 1000 , n_features = 20 , random_state = 42) "
   ]
  },
  {
   "cell_type": "code",
   "execution_count": 4,
   "id": "1b35a62a",
   "metadata": {},
   "outputs": [
    {
     "data": {
      "text/plain": [
       "(1000, 20)"
      ]
     },
     "execution_count": 4,
     "metadata": {},
     "output_type": "execute_result"
    }
   ],
   "source": [
    "X.shape"
   ]
  },
  {
   "cell_type": "code",
   "execution_count": 6,
   "id": "58eb8ec5",
   "metadata": {},
   "outputs": [
    {
     "data": {
      "text/plain": [
       "(1000,)"
      ]
     },
     "execution_count": 6,
     "metadata": {},
     "output_type": "execute_result"
    }
   ],
   "source": [
    "y.shape"
   ]
  },
  {
   "cell_type": "code",
   "execution_count": 7,
   "id": "8cc31de0",
   "metadata": {},
   "outputs": [],
   "source": [
    "from sklearn.model_selection import train_test_split "
   ]
  },
  {
   "cell_type": "code",
   "execution_count": 8,
   "id": "2676e84d",
   "metadata": {},
   "outputs": [],
   "source": [
    "X_train , X_test , y_train , y_test = train_test_split(X,y,test_size = 0.2 , random_state = 42)"
   ]
  },
  {
   "cell_type": "code",
   "execution_count": 9,
   "id": "5d801b02",
   "metadata": {},
   "outputs": [],
   "source": [
    "# Step-1  Initialize a list to store the base learners \n",
    "\n",
    "base_learners = [] "
   ]
  },
  {
   "cell_type": "code",
   "execution_count": 10,
   "id": "61507fb6",
   "metadata": {},
   "outputs": [],
   "source": [
    "# Step-2  Number of  base learners (decision trees) \n",
    "\n",
    "num_base_learners = 10 "
   ]
  },
  {
   "cell_type": "code",
   "execution_count": 15,
   "id": "3f03654b",
   "metadata": {},
   "outputs": [],
   "source": [
    "from sklearn.ensemble import RandomForestClassifier"
   ]
  },
  {
   "cell_type": "code",
   "execution_count": 17,
   "id": "0ec2c290",
   "metadata": {},
   "outputs": [],
   "source": [
    "# Step-3  Train the base learners \n",
    "\n",
    "for i in range(num_base_learners):\n",
    "    #step-4 create a bootstrap sample of the training data \n",
    "    bootstrap_indices = np.random.choice(len(X_train) , size = len(X_train) , replace = True) \n",
    "    X_bootstrap = X_train[bootstrap_indices]\n",
    "\n",
    "    y_bootstrap = y_train[bootstrap_indices]\n",
    "    \n",
    "    #step-5 Create and train a base learner (Random Forest) \n",
    "    base_learner = RandomForestClassifier(n_estimators = 10 , random_state = 42) \n",
    "    base_learner.fit(X_bootstrap , y_bootstrap) \n",
    "    \n",
    "    #step-6 Add the trained base learner to the fit \n",
    "    base_learners.append(base_learner) \n"
   ]
  },
  {
   "cell_type": "code",
   "execution_count": 20,
   "id": "6276aa70",
   "metadata": {},
   "outputs": [],
   "source": [
    "#step-7 Make a prediction with each base learner \n",
    "\n",
    "base_predictions = [] \n",
    "for base_learner in base_learners : \n",
    "    y_pred = base_learner.predict(X_test) \n",
    "    base_predictions.append(y_pred) "
   ]
  },
  {
   "cell_type": "code",
   "execution_count": 22,
   "id": "7bbf50da",
   "metadata": {},
   "outputs": [],
   "source": [
    "#step-8 Combine the predictions using majority voting \n",
    "ensemble_predictions = np.round(np.mean(base_predictions , axis = 0)) "
   ]
  },
  {
   "cell_type": "code",
   "execution_count": 24,
   "id": "83a2d4c7",
   "metadata": {},
   "outputs": [],
   "source": [
    "from sklearn.metrics import accuracy_score "
   ]
  },
  {
   "cell_type": "code",
   "execution_count": 25,
   "id": "b6b28ff7",
   "metadata": {},
   "outputs": [
    {
     "name": "stdout",
     "output_type": "stream",
     "text": [
      "Ensemble Accuracy : 0.865\n"
     ]
    }
   ],
   "source": [
    "#step-8 Calculate the accuracy of the ensemble predictions \n",
    "\n",
    "accuracy = accuracy_score(y_test , ensemble_predictions) \n",
    "print(\"Ensemble Accuracy :\" , accuracy) "
   ]
  },
  {
   "cell_type": "code",
   "execution_count": null,
   "id": "8c069dcc",
   "metadata": {},
   "outputs": [],
   "source": []
  }
 ],
 "metadata": {
  "kernelspec": {
   "display_name": "Python 3 (ipykernel)",
   "language": "python",
   "name": "python3"
  },
  "language_info": {
   "codemirror_mode": {
    "name": "ipython",
    "version": 3
   },
   "file_extension": ".py",
   "mimetype": "text/x-python",
   "name": "python",
   "nbconvert_exporter": "python",
   "pygments_lexer": "ipython3",
   "version": "3.10.9"
  }
 },
 "nbformat": 4,
 "nbformat_minor": 5
}
